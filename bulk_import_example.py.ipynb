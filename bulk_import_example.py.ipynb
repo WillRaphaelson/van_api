{
 "cells": [
  {
   "cell_type": "code",
   "execution_count": null,
   "id": "native-bermuda",
   "metadata": {},
   "outputs": [],
   "source": [
    "# to use this notebook, fill in values for your api user, api key, and email address. \n",
    "import requests\n",
    "import pandas as pd\n",
    "import json\n",
    "import time"
   ]
  },
  {
   "cell_type": "code",
   "execution_count": null,
   "id": "impaired-newman",
   "metadata": {},
   "outputs": [],
   "source": [
    "headers = {\"content-type\": \"application/json\", \"X-NGPVAN-API-CACHEBUST\": \"1\"}\n",
    "api_user = \"INSERT_API_USER\"\n",
    "api_pass = \"INSER_API_KEY|1\""
   ]
  },
  {
   "cell_type": "code",
   "execution_count": null,
   "id": "spoken-government",
   "metadata": {},
   "outputs": [],
   "source": [
    "url = \"https://api.securevan.com/v4/apiKeyProfiles/\"\n",
    "response = (\n",
    "    requests.get(url,\n",
    "    headers=headers,\n",
    "    auth=requests.auth.HTTPBasicAuth(api_user, api_pass)\n",
    "        ).json()\n",
    "    )"
   ]
  },
  {
   "cell_type": "code",
   "execution_count": null,
   "id": "adverse-entity",
   "metadata": {},
   "outputs": [],
   "source": [
    "response"
   ]
  },
  {
   "cell_type": "code",
   "execution_count": null,
   "id": "vietnamese-barbados",
   "metadata": {},
   "outputs": [],
   "source": [
    "url = \"https://api.securevan.com/v4/bulkImportMappingTypes/\"\n",
    "response = (\n",
    "    requests.get(url,\n",
    "    headers=headers,\n",
    "    auth=requests.auth.HTTPBasicAuth(api_user, api_pass)\n",
    "            ).json()\n",
    "    )"
   ]
  },
  {
   "cell_type": "code",
   "execution_count": null,
   "id": "activated-ladder",
   "metadata": {},
   "outputs": [],
   "source": [
    "response"
   ]
  },
  {
   "cell_type": "code",
   "execution_count": null,
   "id": "assigned-offer",
   "metadata": {},
   "outputs": [],
   "source": [
    "[(x[\"displayName\"],x[\"name\"]) for x in response[\"items\"]]"
   ]
  },
  {
   "cell_type": "code",
   "execution_count": null,
   "id": "agricultural-links",
   "metadata": {},
   "outputs": [],
   "source": [
    "url = \"https://api.securevan.com/v4/bulkImportMappingTypes/CreateOrUpdateContact/\"\n",
    "response = (\n",
    "    requests.get(url,\n",
    "    headers=headers,\n",
    "    auth=requests.auth.HTTPBasicAuth(api_user, api_pass)\n",
    "            ).json()\n",
    "    )"
   ]
  },
  {
   "cell_type": "code",
   "execution_count": null,
   "id": "automated-cleaning",
   "metadata": {},
   "outputs": [],
   "source": [
    "response"
   ]
  },
  {
   "cell_type": "code",
   "execution_count": null,
   "id": "innocent-property",
   "metadata": {},
   "outputs": [],
   "source": [
    "body = {\n",
    "        \"listeners\": [\n",
    "            {\n",
    "                \"type\": \"EMAIL\",\n",
    "                \"value\": \"INSERT_EMAIL_ADDRESS\"\n",
    "            }\n",
    "        ],\n",
    "        \"actions\": [{\n",
    "                    \"resourceType\": \"Contacts\",\n",
    "                    \"mappingTypes\": [\n",
    "                        {\n",
    "                            \"name\": \"CreateOrUpdateContact\",\n",
    "                            \"fieldValueMappings\": [\n",
    "                                {\"fieldName\": \"FirstName\", \"columnName\": \"FirstName\"},\n",
    "                                {\"fieldName\": \"MiddleName\", \"columnName\": \"MiddleName\"},\n",
    "                                {\"fieldName\": \"LastName\", \"columnName\": \"LastName\"},\n",
    "                                {\"fieldName\": \"AddressLine1\", \"columnName\": \"AddressLine1\"},\n",
    "                                {\"fieldName\": \"AddressLine2\", \"columnName\": \"AddressLine2\"},\n",
    "                                {\"fieldName\": \"City\", \"columnName\": \"City\"},\n",
    "                                {\"fieldName\": \"ZipOrPostal\", \"columnName\": \"ZipOrPostal\"},\n",
    "                                {\"fieldName\": \"Phone\", \"columnName\": \"Phone\"},\n",
    "                                {\"fieldName\": \"DOB\", \"columnName\": \"DOB\"},\n",
    "                                {\"fieldName\": \"Email\", \"columnName\": \"Email\"},\n",
    "                                {\"fieldName\": \"Sex\", \"columnName\": \"Sex\"},\n",
    "                                {\"fieldName\": \"Nickname\", \"columnName\": \"Nickname\"}\n",
    "                            ]\n",
    "                        }\n",
    "                    ],\n",
    "                    \"ResultFileSizeKbLimit\": 100000,\n",
    "                    \"actionType\": \"LoadMappedFile\"\n",
    "                }\n",
    "            ],\n",
    "            \"description\": \"Big Upload\",\n",
    "            \"file\": {\n",
    "                \"fileName\": \"prod_bulk_upload_file_4.csv\",\n",
    "                \"hasHeader\": True,\n",
    "                \"hasQuotes\": True,\n",
    "                \"sourceUrl\": \"https://github.com/WillRaphaelson/van_api/blob/main/prod_bulk_upload_file_4.csv.zip?raw=true\",\n",
    "                \"columns\": [\n",
    "                    {\"name\": \"FirstName\"},\n",
    "                    {\"name\": \"MiddleName\"},\n",
    "                    {\"name\": \"LastName\"},\n",
    "                    {\"name\": \"AddressLine1\"},\n",
    "                    {\"name\": \"AddressLine2\"},\n",
    "                    {\"name\": \"City\"},\n",
    "                    {\"name\": \"ZipOrPostal\"},\n",
    "                    {\"name\": \"Phone\"},\n",
    "                    {\"name\": \"DOB\"},\n",
    "                    {\"name\": \"Email\"},\n",
    "                    {\"name\": \"Sex\"},\n",
    "                    {\"name\": \"Nickname\"}\n",
    "                ],\n",
    "                \"columnDelimiter\": \"comma\"\n",
    "            }\n",
    "        }\n",
    "\n",
    "body = json.dumps(body)"
   ]
  },
  {
   "cell_type": "code",
   "execution_count": null,
   "id": "technological-heading",
   "metadata": {},
   "outputs": [],
   "source": [
    "url = \"https://api.securevan.com/v4/bulkImportJobs\"\n",
    "response = (\n",
    "    requests.post(url,\n",
    "    data=body,\n",
    "    headers=headers,\n",
    "    auth=requests.auth.HTTPBasicAuth(api_user, api_pass)).json()\n",
    "    )"
   ]
  },
  {
   "cell_type": "code",
   "execution_count": null,
   "id": "right-chase",
   "metadata": {},
   "outputs": [],
   "source": [
    "response"
   ]
  },
  {
   "cell_type": "code",
   "execution_count": null,
   "id": "damaged-hepatitis",
   "metadata": {},
   "outputs": [],
   "source": [
    "job_id = response[\"jobId\"]"
   ]
  },
  {
   "cell_type": "code",
   "execution_count": null,
   "id": "fitting-suffering",
   "metadata": {},
   "outputs": [],
   "source": [
    "job_check_url = f\"https://api.securevan.com/v4/bulkImportJobs/{job_id}\"\n",
    "\n",
    "while True:\n",
    "    job_check_response = (\n",
    "        requests.get(job_check_url,\n",
    "        headers=headers,\n",
    "        auth=requests.auth.HTTPBasicAuth(api_user, api_pass)\n",
    "                ).json()\n",
    "        )\n",
    "    if job_check_response[\"status\"] != \"Completed\":\n",
    "        print(f\"Job Status: {job_check_response['status']}\")\n",
    "        time.sleep(3)\n",
    "    else:\n",
    "        print(f\"Job Status: {job_check_response['status']}\")\n",
    "        print(f\"File at {job_check_response['resultFiles'][0]['url']}\")\n",
    "        break"
   ]
  },
  {
   "cell_type": "code",
   "execution_count": null,
   "id": "disturbed-equipment",
   "metadata": {},
   "outputs": [],
   "source": [
    "response = (\n",
    "    requests.get(job_check_url,\n",
    "    headers=headers,\n",
    "    auth=requests.auth.HTTPBasicAuth(api_user, api_pass)\n",
    "            ).json()\n",
    "    )"
   ]
  },
  {
   "cell_type": "code",
   "execution_count": null,
   "id": "spoken-brick",
   "metadata": {},
   "outputs": [],
   "source": [
    "response"
   ]
  },
  {
   "cell_type": "code",
   "execution_count": null,
   "id": "swiss-director",
   "metadata": {},
   "outputs": [],
   "source": [
    "file_url = response[\"resultFiles\"]\n",
    "file_url = response[\"resultFiles\"][0][\"url\"]\n",
    "resp = requests.get(file_url)\n",
    "fname = f\"{job_id}_results_file.csv\"\n",
    "with open(fname, \"wb\") as f:\n",
    "    f.write(resp.content)\n",
    "frame = pd.read_csv(fname)"
   ]
  },
  {
   "cell_type": "code",
   "execution_count": null,
   "id": "subjective-capacity",
   "metadata": {},
   "outputs": [],
   "source": [
    "frame"
   ]
  },
  {
   "cell_type": "code",
   "execution_count": null,
   "id": "separated-cursor",
   "metadata": {},
   "outputs": [],
   "source": []
  }
 ],
 "metadata": {
  "kernelspec": {
   "display_name": "base",
   "language": "python",
   "name": "base"
  },
  "language_info": {
   "codemirror_mode": {
    "name": "ipython",
    "version": 3
   },
   "file_extension": ".py",
   "mimetype": "text/x-python",
   "name": "python",
   "nbconvert_exporter": "python",
   "pygments_lexer": "ipython3",
   "version": "3.8.5"
  }
 },
 "nbformat": 4,
 "nbformat_minor": 5
}
