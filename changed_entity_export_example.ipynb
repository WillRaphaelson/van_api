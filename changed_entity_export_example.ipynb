{
 "cells": [
  {
   "cell_type": "code",
   "execution_count": null,
   "id": "threaded-single",
   "metadata": {},
   "outputs": [],
   "source": [
    "import requests\n",
    "import pandas as pd\n",
    "import datetime\n",
    "import time\n",
    "import json"
   ]
  },
  {
   "cell_type": "code",
   "execution_count": null,
   "id": "authentic-constraint",
   "metadata": {},
   "outputs": [],
   "source": [
    "api_user = \"INSERT_API_USER\"\n",
    "api_pass = \"INSERT_API_KEY|1\"\n",
    "headers = {\"content-type\": \"application/json\"}"
   ]
  },
  {
   "cell_type": "code",
   "execution_count": null,
   "id": "lyric-albert",
   "metadata": {},
   "outputs": [],
   "source": [
    "intro_url = f\"https://api.securevan.com/v4/apiKeyProfiles\"\n",
    "response = (\n",
    "    requests.get(\n",
    "    intro_url,\n",
    "    headers=headers,\n",
    "    auth=requests.auth.HTTPBasicAuth(api_user, api_pass)\n",
    "        ).json()\n",
    "    )"
   ]
  },
  {
   "cell_type": "code",
   "execution_count": null,
   "id": "academic-mathematics",
   "metadata": {},
   "outputs": [],
   "source": [
    "response"
   ]
  },
  {
   "cell_type": "code",
   "execution_count": null,
   "id": "forward-mayor",
   "metadata": {},
   "outputs": [],
   "source": [
    "res_url = f\"https://api.securevan.com/v4/changedEntityExportJobs/resources\"\n",
    "\n",
    "entities = (\n",
    "    requests.get(\n",
    "    res_url,\n",
    "    headers=headers,\n",
    "    auth=requests.auth.HTTPBasicAuth(api_user, api_pass)\n",
    "        ).json()\n",
    "    )"
   ]
  },
  {
   "cell_type": "code",
   "execution_count": null,
   "id": "conditional-sight",
   "metadata": {},
   "outputs": [],
   "source": [
    "entities"
   ]
  },
  {
   "cell_type": "code",
   "execution_count": null,
   "id": "future-springer",
   "metadata": {},
   "outputs": [],
   "source": [
    "contacts_fields_url = f\"https://api.securevan.com/v4/changedEntityExportJobs/fields/contacts\"\n",
    "contacts_fields = (\n",
    "    requests.get(\n",
    "    contacts_fields_url,\n",
    "    headers=headers,\n",
    "    auth=requests.auth.HTTPBasicAuth(api_user, api_pass)\n",
    "        ).json()\n",
    "    )"
   ]
  },
  {
   "cell_type": "code",
   "execution_count": null,
   "id": "injured-museum",
   "metadata": {},
   "outputs": [],
   "source": [
    "all_fields = [x[\"fieldName\"] for x in contacts_fields]"
   ]
  },
  {
   "cell_type": "code",
   "execution_count": null,
   "id": "painful-powell",
   "metadata": {},
   "outputs": [],
   "source": [
    "all_fields"
   ]
  },
  {
   "cell_type": "code",
   "execution_count": null,
   "id": "measured-writer",
   "metadata": {},
   "outputs": [],
   "source": [
    "from_timestamp = (datetime.datetime.now() - datetime.timedelta(days=30)).isoformat()\n",
    "\n",
    "post_cee_job_url = f\"https://api.securevan.com/v4/changedEntityExportJobs/\"\n",
    "\n",
    "request_body = json.dumps(\n",
    "    {\n",
    "        \"dateChangedFrom\": from_timestamp,\n",
    "        \"resourceType\": \"contacts\",\n",
    "        # \"requestedIds\": [\"10162461\"],\n",
    "        \"requestedFields\": all_fields,\n",
    "        \"fileSizeKbLimit\": 100000\n",
    "        }\n",
    "    )\n"
   ]
  },
  {
   "cell_type": "code",
   "execution_count": null,
   "id": "unauthorized-construction",
   "metadata": {},
   "outputs": [],
   "source": [
    "request_body"
   ]
  },
  {
   "cell_type": "code",
   "execution_count": null,
   "id": "suspected-store",
   "metadata": {},
   "outputs": [],
   "source": [
    "posted_job_response = (\n",
    "    requests.post(post_cee_job_url,\n",
    "    headers=headers,\n",
    "    data=request_body,\n",
    "    auth=requests.auth.HTTPBasicAuth(api_user, api_pass)\n",
    "            ).json()\n",
    "    )\n",
    "\n",
    "posted_job_response"
   ]
  },
  {
   "cell_type": "code",
   "execution_count": null,
   "id": "prerequisite-corps",
   "metadata": {},
   "outputs": [],
   "source": [
    "export_job_id = posted_job_response[\"exportJobId\"]\n",
    "\n",
    "job_check_url = f\"https://api.securevan.com/v4/changedEntityExportJobs/{export_job_id}\"\n",
    "\n",
    "while True:\n",
    "    job_check_response = (\n",
    "        requests.get(job_check_url,\n",
    "        headers=headers,\n",
    "        auth=requests.auth.HTTPBasicAuth(api_user, api_pass)\n",
    "                ).json()\n",
    "        )\n",
    "    if job_check_response[\"jobStatus\"] != \"Complete\":\n",
    "        print(f\"Job Status: {job_check_response['jobStatus']}\")\n",
    "        time.sleep(3)\n",
    "    else:\n",
    "        print(f\"Job Status: {job_check_response['jobStatus']}\")\n",
    "        print(f\"File at {job_check_response['files'][0]['downloadUrl']}\")\n",
    "        break"
   ]
  },
  {
   "cell_type": "code",
   "execution_count": null,
   "id": "intermediate-offering",
   "metadata": {},
   "outputs": [],
   "source": [
    "job_check_response"
   ]
  },
  {
   "cell_type": "code",
   "execution_count": null,
   "id": "reasonable-diana",
   "metadata": {},
   "outputs": [],
   "source": [
    "file_url = job_check_response[\"files\"][0][\"downloadUrl\"]\n",
    "resp = requests.get(file_url)\n",
    "with open(\"response_file.csv\", \"wb\") as f:\n",
    "    f.write(resp.content)\n",
    "\n",
    "# file access expires after 24 hours\n",
    "frame = pd.read_csv(\"response_file.csv\")\n",
    "frame"
   ]
  }
 ],
 "metadata": {
  "kernelspec": {
   "display_name": "base",
   "language": "python",
   "name": "base"
  },
  "language_info": {
   "codemirror_mode": {
    "name": "ipython",
    "version": 3
   },
   "file_extension": ".py",
   "mimetype": "text/x-python",
   "name": "python",
   "nbconvert_exporter": "python",
   "pygments_lexer": "ipython3",
   "version": "3.8.5"
  }
 },
 "nbformat": 4,
 "nbformat_minor": 5
}
