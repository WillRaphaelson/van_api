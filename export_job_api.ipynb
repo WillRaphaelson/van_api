{
 "cells": [
  {
   "cell_type": "markdown",
   "id": "9d426305",
   "metadata": {},
   "source": [
    "### Import Statements"
   ]
  },
  {
   "cell_type": "code",
   "execution_count": null,
   "id": "4b3c4f56",
   "metadata": {},
   "outputs": [],
   "source": [
    "import requests\n",
    "import pandas as pd\n",
    "import json\n",
    "import time\n",
    "import os"
   ]
  },
  {
   "cell_type": "markdown",
   "id": "ff8588fa",
   "metadata": {},
   "source": [
    "### Retrieve API Key"
   ]
  },
  {
   "cell_type": "code",
   "execution_count": null,
   "id": "cad26861",
   "metadata": {},
   "outputs": [],
   "source": [
    "# to use this notebook, fill in values for your api user and api key\n",
    "#####User Input#####\n",
    "api_user = \"INSERT_API_USER\"\n",
    "api_pass = \"INSERT_API_KEY|1\"\n",
    "#####User Input#####\n",
    "\n",
    "headers = {\"content-type\": \"application/json\"}"
   ]
  },
  {
   "cell_type": "markdown",
   "id": "32120d02",
   "metadata": {},
   "source": [
    "### Get API Key Profiles"
   ]
  },
  {
   "cell_type": "code",
   "execution_count": null,
   "id": "d6c05011",
   "metadata": {},
   "outputs": [],
   "source": [
    "intro_url = \"https://api.securevan.com/v4/apiKeyProfiles/\"\n",
    "response = (\n",
    "    requests.get(\n",
    "    intro_url,\n",
    "    headers=headers,\n",
    "    auth=requests.auth.HTTPBasicAuth(api_user, api_pass)\n",
    "        ).json()\n",
    "    )"
   ]
  },
  {
   "cell_type": "code",
   "execution_count": null,
   "id": "05b73aec",
   "metadata": {},
   "outputs": [],
   "source": [
    "response"
   ]
  },
  {
   "cell_type": "markdown",
   "id": "105a04f6",
   "metadata": {},
   "source": [
    "### Get Export Job Types"
   ]
  },
  {
   "cell_type": "code",
   "execution_count": null,
   "id": "39f789bd",
   "metadata": {},
   "outputs": [],
   "source": [
    "job_types_url = \"https://api.securevan.com/v4/exportJobTypes\"\n",
    "\n",
    "job_types = (\n",
    "    requests.get(job_types_url,\n",
    "    headers=headers,\n",
    "    auth=requests.auth.HTTPBasicAuth(api_user, api_pass)\n",
    "        ).json()\n",
    "    )"
   ]
  },
  {
   "cell_type": "code",
   "execution_count": null,
   "id": "b9bbec96",
   "metadata": {},
   "outputs": [],
   "source": [
    "job_types"
   ]
  },
  {
   "cell_type": "markdown",
   "id": "621c47cf",
   "metadata": {},
   "source": [
    "### Get Saved Lists"
   ]
  },
  {
   "cell_type": "code",
   "execution_count": null,
   "id": "91efe9d3",
   "metadata": {},
   "outputs": [],
   "source": [
    "saved_lists_url = \"https://api.securevan.com/v4/savedLists\"\n",
    "\n",
    "query_string = {\"maxDoorCount\":\"1000\",\"maxPeopleCount\":\"2000\"}\n",
    "\n",
    "saved_lists = (\n",
    "    requests.request(\n",
    "        \"GET\",\n",
    "        saved_lists_url,\n",
    "        headers=headers,\n",
    "        auth=requests.auth.HTTPBasicAuth(api_user, api_pass),\n",
    "        params=query_string\n",
    "            ).json()\n",
    "    )"
   ]
  },
  {
   "cell_type": "code",
   "execution_count": null,
   "id": "2207baa5",
   "metadata": {},
   "outputs": [],
   "source": [
    "saved_lists"
   ]
  },
  {
   "cell_type": "markdown",
   "id": "27cb0b23",
   "metadata": {},
   "source": [
    "### Check SavedList is in ID"
   ]
  },
  {
   "cell_type": "code",
   "execution_count": null,
   "id": "324b54ca",
   "metadata": {},
   "outputs": [],
   "source": [
    "#####User Input#####\n",
    "saved_list_id = \"INSERT_LIST_ID_AS_INT\"\n",
    "#####User Input#####\n",
    "\n",
    "if (saved_list_id in set([item['savedListId'] for item in saved_lists['items']])):\n",
    "    print('Valid Saved List')\n",
    "else:\n",
    "    print('Invalid Saved List')"
   ]
  },
  {
   "cell_type": "markdown",
   "id": "05b3faf7",
   "metadata": {},
   "source": [
    "### Create Export Job\n",
    "\n",
    "After creating the export job, there are two options on receiving the download url. The first is through repeateduly calling the API, at set intervals, to check if the job is complete. Once it is, the download link will be printed. The second is through using a webhook which will post the job details once it is complete, which our function will then get to retrieve the downlaod link. Only one of the following implementations are needed. "
   ]
  },
  {
   "cell_type": "code",
   "execution_count": null,
   "id": "7e211eb0",
   "metadata": {},
   "outputs": [],
   "source": [
    "#####User Input#####\n",
    "webhook_url = \"INSERT_WEBHOOK_URL\"\n",
    "job_type = \"INSERT_JOB_TYPE_AS_INT\"\n",
    "#####User Input#####\n",
    "\n",
    "url = \"https://api.securevan.com/v4/exportJobs\"\n",
    "\n",
    "payload = {\n",
    "    \"savedListId\": saved_list_id,\n",
    "    \"type\": job_type,\n",
    "    \"webhookUrl\": webhook_url\n",
    "}\n",
    "\n",
    "response = (requests.request(\n",
    "    \"POST\", \n",
    "    url, \n",
    "    auth=requests.auth.HTTPBasicAuth(api_user, api_pass),\n",
    "    json=payload, \n",
    "    headers=headers)\n",
    "           ).json()"
   ]
  },
  {
   "cell_type": "code",
   "execution_count": null,
   "id": "41398618",
   "metadata": {},
   "outputs": [],
   "source": [
    "response"
   ]
  },
  {
   "cell_type": "markdown",
   "id": "55ea10e8",
   "metadata": {},
   "source": [
    "### Pulling Method 1 - Check export status retrieve download URL"
   ]
  },
  {
   "cell_type": "code",
   "execution_count": null,
   "id": "fc5ff1b3",
   "metadata": {
    "scrolled": true
   },
   "outputs": [],
   "source": [
    "export_job_id = response[\"exportJobId\"]\n",
    "\n",
    "url = f\"https://api.securevan.com/v4/exportJobs/{export_job_id}\"\n",
    "\n",
    "while True:\n",
    "    response = requests.request(\n",
    "        \"GET\", \n",
    "        url, \n",
    "        headers=headers, \n",
    "        auth=requests.auth.HTTPBasicAuth(api_user, api_pass)\n",
    "            ).json()\n",
    "    \n",
    "    if response[\"status\"] != \"Completed\":\n",
    "        print(f\"Job Status: {response['status']}\")\n",
    "        time.sleep(5)\n",
    "        \n",
    "    else:\n",
    "        print(f\"Job Status: {response['status']}\")\n",
    "        print(f\"File at {response['downloadUrl']}\")\n",
    "        break"
   ]
  },
  {
   "cell_type": "markdown",
   "id": "d1676ea7",
   "metadata": {},
   "source": [
    "### Pulling Method 2 (Webhook) - Check export status and retrieve download URL"
   ]
  },
  {
   "cell_type": "code",
   "execution_count": null,
   "id": "722fa376",
   "metadata": {
    "scrolled": true
   },
   "outputs": [],
   "source": [
    "headers = {\"content-type\": \"application/json\"}\n",
    "response = requests.get(\n",
    "    webhook_url,\n",
    "    headers=headers\n",
    "        ).json()\n",
    "\n",
    "print(f\"Job Status: {response['status']}\")\n",
    "print(f\"File at {response['downloadUrl']}\")"
   ]
  },
  {
   "cell_type": "markdown",
   "id": "9cd2ae4c",
   "metadata": {},
   "source": [
    "### Download CSV and load into panda frame"
   ]
  },
  {
   "cell_type": "code",
   "execution_count": null,
   "id": "c200ed8c",
   "metadata": {},
   "outputs": [],
   "source": [
    "file_name = \"response_file.csv\"\n",
    "resp = requests.get(response['downloadUrl'])\n",
    "with open(file_name, \"wb\") as f:\n",
    "    f.write(resp.content)\n",
    "frame = pd.read_csv(file_name)"
   ]
  },
  {
   "cell_type": "code",
   "execution_count": null,
   "id": "c3b78a46",
   "metadata": {},
   "outputs": [],
   "source": [
    "frame"
   ]
  }
 ],
 "metadata": {
  "kernelspec": {
   "display_name": "Python 3",
   "language": "python",
   "name": "python3"
  },
  "language_info": {
   "codemirror_mode": {
    "name": "ipython",
    "version": 3
   },
   "file_extension": ".py",
   "mimetype": "text/x-python",
   "name": "python",
   "nbconvert_exporter": "python",
   "pygments_lexer": "ipython3",
   "version": "3.8.8"
  }
 },
 "nbformat": 4,
 "nbformat_minor": 5
}
